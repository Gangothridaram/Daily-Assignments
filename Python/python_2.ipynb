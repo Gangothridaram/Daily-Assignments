{
  "nbformat": 4,
  "nbformat_minor": 0,
  "metadata": {
    "colab": {
      "provenance": []
    },
    "kernelspec": {
      "name": "python3",
      "display_name": "Python 3"
    },
    "language_info": {
      "name": "python"
    }
  },
  "cells": [
    {
      "cell_type": "markdown",
      "source": [
        "#check if a number is prime or not\n"
      ],
      "metadata": {
        "id": "wVmYShlljTFb"
      }
    },
    {
      "cell_type": "code",
      "execution_count": 4,
      "metadata": {
        "colab": {
          "base_uri": "https://localhost:8080/"
        },
        "id": "m6V8HtJTjOUl",
        "outputId": "19409287-c314-4157-af98-ff575f42bc47"
      },
      "outputs": [
        {
          "output_type": "stream",
          "name": "stdout",
          "text": [
            "Enter a number:2\n",
            "prime\n"
          ]
        }
      ],
      "source": [
        "n=int(input(\"Enter a number:\"))\n",
        "count=0\n",
        "for i in range(1,n+1):\n",
        "    if n%i==0:\n",
        "        count+=1\n",
        "if(count==2):\n",
        "    print(\"prime\")\n",
        "else:\n",
        "    print(\"not prime\")"
      ]
    },
    {
      "cell_type": "markdown",
      "source": [
        "#find the factorial of a number\n"
      ],
      "metadata": {
        "id": "m3V8c5Yzjz62"
      }
    },
    {
      "cell_type": "code",
      "source": [
        "num=int(input(\"Enter a number:\"))\n",
        "fact=1\n",
        "for i in range(1,num+1):\n",
        "    fact=fact*i\n",
        "print(\"factorial:\",fact)"
      ],
      "metadata": {
        "colab": {
          "base_uri": "https://localhost:8080/"
        },
        "id": "u6SiEw6Mj1JH",
        "outputId": "12702411-405b-4e4f-bccc-d644a45191b6"
      },
      "execution_count": 5,
      "outputs": [
        {
          "output_type": "stream",
          "name": "stdout",
          "text": [
            "Enter a number:5\n",
            "factorial: 120\n"
          ]
        }
      ]
    },
    {
      "cell_type": "markdown",
      "source": [
        "#print the fibonacci series up to n terms\n"
      ],
      "metadata": {
        "id": "eWhD4J00kGzQ"
      }
    },
    {
      "cell_type": "code",
      "source": [
        "n=int(input(\"enter number:\"))\n",
        "a=0\n",
        "b=1\n",
        "print(a,b,end=\" \")\n",
        "for i in range(2,n):\n",
        "    c=a+b\n",
        "    print(c,end=\" \")\n",
        "    a=b\n",
        "    b=c"
      ],
      "metadata": {
        "colab": {
          "base_uri": "https://localhost:8080/"
        },
        "id": "tn3sEpr0kMwj",
        "outputId": "367d9b7f-6aee-448b-bfc7-2ad19035d31e"
      },
      "execution_count": 8,
      "outputs": [
        {
          "output_type": "stream",
          "name": "stdout",
          "text": [
            "enter number:12\n",
            "0 1 1 2 3 5 8 13 21 34 55 89 "
          ]
        }
      ]
    },
    {
      "cell_type": "markdown",
      "source": [
        "#find the sum of digits of a given number"
      ],
      "metadata": {
        "id": "2NztZ2dQkvKV"
      }
    },
    {
      "cell_type": "code",
      "source": [
        "n=int(input(\"enter a number:\"))\n",
        "sum=0\n",
        "while n>0:\n",
        "    rem=n%10\n",
        "    sum=sum+rem\n",
        "    n=n//10\n",
        "print(\"Sum of digits:\",sum)"
      ],
      "metadata": {
        "colab": {
          "base_uri": "https://localhost:8080/"
        },
        "id": "4NTyOc2LkwTN",
        "outputId": "e5abaf51-247c-4eca-89a0-aa5033c77c0f"
      },
      "execution_count": 9,
      "outputs": [
        {
          "output_type": "stream",
          "name": "stdout",
          "text": [
            "enter a number:123\n",
            "Sum of digits: 6\n"
          ]
        }
      ]
    },
    {
      "cell_type": "markdown",
      "source": [
        "#reverse the digits of a given number\n"
      ],
      "metadata": {
        "id": "EwSQYB4tk-Zx"
      }
    },
    {
      "cell_type": "code",
      "source": [
        "n=int(input(\"enter a number:\"))\n",
        "rev=0\n",
        "while(n>0):\n",
        "    rem=n%10\n",
        "    rev=(rev*10)+rem\n",
        "    n=n//10\n",
        "print(rev)"
      ],
      "metadata": {
        "colab": {
          "base_uri": "https://localhost:8080/"
        },
        "id": "yPhJMcT3k_Gn",
        "outputId": "be8226a1-ca80-472b-9983-df45d85adde2"
      },
      "execution_count": 10,
      "outputs": [
        {
          "output_type": "stream",
          "name": "stdout",
          "text": [
            "enter a number:1234\n",
            "4321\n"
          ]
        }
      ]
    }
  ]
}