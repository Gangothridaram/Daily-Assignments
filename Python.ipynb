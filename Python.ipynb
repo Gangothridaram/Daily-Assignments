{
  "nbformat": 4,
  "nbformat_minor": 0,
  "metadata": {
    "colab": {
      "provenance": [],
      "authorship_tag": "ABX9TyPrA69TivSFYfgJ4owA7jcH",
      "include_colab_link": true
    },
    "kernelspec": {
      "name": "python3",
      "display_name": "Python 3"
    },
    "language_info": {
      "name": "python"
    }
  },
  "cells": [
    {
      "cell_type": "markdown",
      "metadata": {
        "id": "view-in-github",
        "colab_type": "text"
      },
      "source": [
        "<a href=\"https://colab.research.google.com/github/Gangothridaram/Daily-Assignments/blob/main/Python.ipynb\" target=\"_parent\"><img src=\"https://colab.research.google.com/assets/colab-badge.svg\" alt=\"Open In Colab\"/></a>"
      ]
    },
    {
      "cell_type": "markdown",
      "source": [
        "1.Reverse a given string without using built-in reverse functions"
      ],
      "metadata": {
        "id": "Rovzv2H8asGf"
      }
    },
    {
      "cell_type": "code",
      "execution_count": null,
      "metadata": {
        "colab": {
          "base_uri": "https://localhost:8080/"
        },
        "id": "IRi8xmLXYHzI",
        "outputId": "4b85c6dd-66a4-4a14-9199-5db8003f1918"
      },
      "outputs": [
        {
          "output_type": "stream",
          "name": "stdout",
          "text": [
            "Enter a string:ganga\n",
            "agnag\n"
          ]
        }
      ],
      "source": [
        "s=input(\"Enter a string:\")\n",
        "\n",
        "rev=\"\"\n",
        "\n",
        "for ch in s:\n",
        "\n",
        "  rev=ch+rev\n",
        "\n",
        "print(rev)"
      ]
    },
    {
      "cell_type": "markdown",
      "source": [
        "2.check if a string is palindrome or not"
      ],
      "metadata": {
        "id": "GatYAHRsa0wI"
      }
    },
    {
      "cell_type": "code",
      "source": [
        "s=input(\"Enter a string:\")\n",
        "\n",
        "if s==s[::-1]:\n",
        "\n",
        "  print(\"Palindrome\")\n",
        "\n",
        "else:\n",
        "\n",
        "  print(\"Not a Palindrome\")"
      ],
      "metadata": {
        "colab": {
          "base_uri": "https://localhost:8080/"
        },
        "id": "v8JgvWjUYtP6",
        "outputId": "c22ba51d-4650-40e8-f1a9-581e619f9f4d"
      },
      "execution_count": null,
      "outputs": [
        {
          "output_type": "stream",
          "name": "stdout",
          "text": [
            "Enter a string:madam\n",
            "Palindrome\n"
          ]
        }
      ]
    },
    {
      "cell_type": "markdown",
      "source": [
        "3.count the number of vowels and consonants in a string"
      ],
      "metadata": {
        "id": "3GJ6QS54a5Y-"
      }
    },
    {
      "cell_type": "code",
      "source": [
        "s=input(\"Enter a string:\")\n",
        "\n",
        "vowels=\"aeiouAEIOU\"\n",
        "\n",
        "vowel_count=0\n",
        "\n",
        "consonant_count=0\n",
        "\n",
        "for i in s:\n",
        "\n",
        "    if('a'<=i<='z')or('A'<=i<='Z'):\n",
        "\n",
        "        if i in vowels:\n",
        "\n",
        "            vowel_count+=1\n",
        "\n",
        "        else:\n",
        "\n",
        "            consonant_count+=1\n",
        "\n",
        "print(\"Vowels:\", vowel_count)\n",
        "\n",
        "print(\"Consonants:\", consonant_count)"
      ],
      "metadata": {
        "colab": {
          "base_uri": "https://localhost:8080/"
        },
        "id": "DoH67uujZlXc",
        "outputId": "23d6a4f7-cc3f-41ad-820d-8c4cd58915de"
      },
      "execution_count": null,
      "outputs": [
        {
          "output_type": "stream",
          "name": "stdout",
          "text": [
            "Enter a string:pawankalyan\n",
            "Vowels: 4\n",
            "Consonants: 7\n"
          ]
        }
      ]
    },
    {
      "cell_type": "markdown",
      "source": [
        "4.Remove all spaces from a given string"
      ],
      "metadata": {
        "id": "wLl8d9j5bFYt"
      }
    },
    {
      "cell_type": "code",
      "source": [
        "s=input(\"Enter a string:\")\n",
        "\n",
        "res= \"\"\n",
        "\n",
        "for i in s:\n",
        "\n",
        "  if i!=\" \":\n",
        "\n",
        "    res=res+i\n",
        "\n",
        "print(res)"
      ],
      "metadata": {
        "colab": {
          "base_uri": "https://localhost:8080/"
        },
        "id": "2OsUCKPLZyQl",
        "outputId": "2c3fa94f-9ffa-4c28-da6b-77f62a2dee83"
      },
      "execution_count": null,
      "outputs": [
        {
          "output_type": "stream",
          "name": "stdout",
          "text": [
            "Enter a string:uday kiran kumar\n",
            "udaykirankumar\n"
          ]
        }
      ]
    },
    {
      "cell_type": "markdown",
      "source": [
        "5.Count the frequency of each character in a string"
      ],
      "metadata": {
        "id": "3FFltFiXbLZw"
      }
    },
    {
      "cell_type": "code",
      "source": [
        "s=input(\"Enter a string:\")\n",
        "for i in s:\n",
        "  print(f\"{i}:{s.count(i)}\")\n"
      ],
      "metadata": {
        "colab": {
          "base_uri": "https://localhost:8080/"
        },
        "id": "grpStuKKbWVi",
        "outputId": "fbe1696d-f35f-4ab8-b0e9-6c139511f5ef"
      },
      "execution_count": null,
      "outputs": [
        {
          "output_type": "stream",
          "name": "stdout",
          "text": [
            "Enter a string:charan teja\n",
            "c:1\n",
            "h:1\n",
            "a:3\n",
            "r:1\n",
            "a:3\n",
            "n:1\n",
            " :1\n",
            "t:1\n",
            "e:1\n",
            "j:1\n",
            "a:3\n"
          ]
        }
      ]
    }
  ]
}